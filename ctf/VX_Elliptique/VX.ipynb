{
 "cells": [
  {
   "cell_type": "code",
   "execution_count": 128,
   "metadata": {},
   "outputs": [],
   "source": [
    "# données du challenge\n",
    "n = 2^255 - 19   \n",
    "x = 54387532345611522562080964454373961410727797296305781726528152669705763479709\n",
    "y = 14361142164866602439359111189873751719750924094051390005776268461061669568849\n",
    "\n",
    "y1 = 43534902453791495272426381314470202206884068238768892013952523542894895251100\n",
    "y2 = 30324056046686065827439799532301040739788176334375034006985657438931650257514"
   ]
  },
  {
   "cell_type": "code",
   "execution_count": 115,
   "metadata": {},
   "outputs": [],
   "source": [
    "# https://ask.sagemath.org/question/49463/halving-point-on-curve25519/\n",
    "p = n\n",
    "F.<a> = GF(p)                                                                                                               \n",
    "E = EllipticCurve( F, [0, 486662, 0, 1, 0] )                                                                        \n",
    "q = 2^252 + 27742317777372353535851937790883648493\n",
    "ord = 8 * q\n",
    "\n",
    "G = E.lift_x(9)    # generator of a subgroup of E(F) of order q"
   ]
  },
  {
   "cell_type": "code",
   "execution_count": 116,
   "metadata": {},
   "outputs": [
    {
     "data": {
      "text/plain": [
       "True"
      ]
     },
     "execution_count": 116,
     "metadata": {},
     "output_type": "execute_result"
    }
   ],
   "source": [
    "P = E.lift_x(x)\n",
    "P.xy()[1] == y"
   ]
  },
  {
   "cell_type": "code",
   "execution_count": 117,
   "metadata": {},
   "outputs": [
    {
     "data": {
      "text/plain": [
       "True"
      ]
     },
     "execution_count": 117,
     "metadata": {},
     "output_type": "execute_result"
    }
   ],
   "source": [
    "P.order() == q"
   ]
  },
  {
   "cell_type": "code",
   "execution_count": 118,
   "metadata": {},
   "outputs": [
    {
     "data": {
      "text/plain": [
       "(0 : 1 : 0)"
      ]
     },
     "execution_count": 118,
     "metadata": {},
     "output_type": "execute_result"
    }
   ],
   "source": [
    "q * P"
   ]
  },
  {
   "cell_type": "code",
   "execution_count": 119,
   "metadata": {},
   "outputs": [
    {
     "data": {
      "text/plain": [
       "(9 : 43114425171068552920764898935933967039370386198203806730763910166200978582548 : 1)"
      ]
     },
     "execution_count": 119,
     "metadata": {},
     "output_type": "execute_result"
    }
   ],
   "source": [
    "# générateur\n",
    "G"
   ]
  },
  {
   "cell_type": "code",
   "execution_count": 120,
   "metadata": {},
   "outputs": [
    {
     "data": {
      "text/plain": [
       "[(9 : 43114425171068552920764898935933967039370386198203806730763910166200978582548 : 1),\n",
       " (9 : 14781619447589544791020593568409986887264606134616475288964881837755586237401 : 1)]"
      ]
     },
     "execution_count": 120,
     "metadata": {},
     "output_type": "execute_result"
    }
   ],
   "source": [
    "# https://math.stackexchange.com/questions/3444195/elliptic-curve-generator-in-sagemath-for-curve25519\n",
    "E.lift_x(9, all)"
   ]
  },
  {
   "cell_type": "code",
   "execution_count": 121,
   "metadata": {},
   "outputs": [],
   "source": [
    "# https://gist.github.com/mimoo/a47ac8ea01b1f8c53d9b7c3d090948fb\n",
    "base_point = E.lift_x(9)\n",
    "point_at_infinity = E(0)\n",
    "\n",
    "# all elements of order 4\n",
    "G4s = E.lift_x(1, True)\n",
    "G4 = E.lift_x(1) # just the first element\n",
    "\n",
    "# the element of order 2\n",
    "G2 = G4 + G4"
   ]
  },
  {
   "cell_type": "code",
   "execution_count": 122,
   "metadata": {},
   "outputs": [
    {
     "data": {
      "text/plain": [
       "True"
      ]
     },
     "execution_count": 122,
     "metadata": {},
     "output_type": "execute_result"
    }
   ],
   "source": [
    "# vérification équation de la courbe elliptique\n",
    "x=F(x)  # x dans le corps GF(2^255-19)\n",
    "y=F(y)\n",
    "y^2==x^3+486662*x^2+x"
   ]
  },
  {
   "cell_type": "code",
   "execution_count": 123,
   "metadata": {},
   "outputs": [
    {
     "data": {
      "text/plain": [
       "True"
      ]
     },
     "execution_count": 123,
     "metadata": {},
     "output_type": "execute_result"
    }
   ],
   "source": [
    "# http://blog.bjrn.se/2015/07/lets-construct-elliptic-curve.html\n",
    "\n",
    "# clés privées\n",
    "private_alice = randint(1000, 1000000)\n",
    "private_bob = randint(1000, 1000000)\n",
    "\n",
    "# clés publiques\n",
    "public_alice = private_alice * P\n",
    "public_bob = private_bob * P\n",
    "\n",
    "# secret partagé\n",
    "private_alice * public_bob == private_bob * public_alice"
   ]
  },
  {
   "cell_type": "code",
   "execution_count": null,
   "metadata": {},
   "outputs": [],
   "source": [
    "# essai de la fonction CRT (Chinese Remainders Theorem)\n",
    "CRT([573,98,2726],[8387,9613,7927])"
   ]
  },
  {
   "cell_type": "code",
   "execution_count": 127,
   "metadata": {},
   "outputs": [
    {
     "data": {
      "text/plain": [
       "True"
      ]
     },
     "execution_count": 127,
     "metadata": {},
     "output_type": "execute_result"
    }
   ],
   "source": [
    "P.order().is_prime()"
   ]
  },
  {
   "cell_type": "code",
   "execution_count": null,
   "metadata": {},
   "outputs": [],
   "source": []
  },
  {
   "cell_type": "code",
   "execution_count": null,
   "metadata": {},
   "outputs": [],
   "source": []
  }
 ],
 "metadata": {
  "kernelspec": {
   "display_name": "SageMath 9.1",
   "language": "sage",
   "name": "sagemath"
  },
  "language_info": {
   "codemirror_mode": {
    "name": "ipython",
    "version": 3
   },
   "file_extension": ".py",
   "mimetype": "text/x-python",
   "name": "python",
   "nbconvert_exporter": "python",
   "pygments_lexer": "ipython3",
   "version": "3.7.3"
  }
 },
 "nbformat": 4,
 "nbformat_minor": 2
}
